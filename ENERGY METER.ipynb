{
 "cells": [
  {
   "cell_type": "markdown",
   "metadata": {},
   "source": [
    "# IMPORT LIBRARIES"
   ]
  },
  {
   "cell_type": "code",
   "execution_count": null,
   "metadata": {},
   "outputs": [],
   "source": [
    "import cv2\n",
    "import tensorflow.keras\n",
    "from PIL import Image, ImageOps\n",
    "import numpy as np\n",
    "\n",
    "import tkinter as tk\n",
    "from tkinter import Message ,Text\n",
    "\n",
    "import datetime\n",
    "import time\n",
    "import tkinter.ttk as ttk\n",
    "import tkinter.font as font"
   ]
  },
  {
   "cell_type": "markdown",
   "metadata": {},
   "source": [
    "# GETTING THE METER IMAGE"
   ]
  },
  {
   "cell_type": "code",
   "execution_count": null,
   "metadata": {},
   "outputs": [],
   "source": [
    "image = cv2.imread(\"D:\\FINAL YEAR PROJECTS\\models\\gray  model\\FINAL\\ENERGYMETER.jpeg\")\n",
    "cv2.imshow(\"meter reading\", image) \n",
    "cv2.waitKey(0)\n",
    "cv2.destroyAllWindows() "
   ]
  },
  {
   "cell_type": "markdown",
   "metadata": {},
   "source": [
    "# CANNY EDGE DETECTION"
   ]
  },
  {
   "cell_type": "code",
   "execution_count": null,
   "metadata": {},
   "outputs": [],
   "source": [
    "image = cv2.imread(\"D:\\FINAL YEAR PROJECTS\\models\\gray  model\\FINAL\\ENERGYMETER.jpeg\") \n",
    "gray=cv2.cvtColor(image,cv2.COLOR_BGR2GRAY) \n",
    "edged = cv2.Canny(image, 10, 250) \n",
    "cv2.imshow(\"edge\", edged) \n",
    "cv2.waitKey(0)\n",
    "cv2.destroyAllWindows() \n",
    "(cnts, _) = cv2.findContours(edged.copy(), cv2.RETR_EXTERNAL, cv2.CHAIN_APPROX_SIMPLE)[-2:]\n",
    "idx = 0 \n",
    "for c in cnts: \n",
    "\tx,y,w,h = cv2.boundingRect(c) \n",
    "\tif w>400 and h>90: \n",
    "\t\tidx+=1 \n",
    "\t\tnew_img=image[y:y+h,x:x+w] \n",
    "\t\tcv2.imwrite( 'D:\\FINAL YEAR PROJECTS\\models\\gray  model\\FINAL\\canny'+str(idx)+'.png', new_img) \n",
    "cv2.imshow(\"im\",new_img) \n",
    "cv2.waitKey(0) \n",
    "cv2.destroyAllWindows() "
   ]
  },
  {
   "cell_type": "markdown",
   "metadata": {},
   "source": [
    "# CROPPING AND APPLYING MONOCHROME FILTER"
   ]
  },
  {
   "cell_type": "code",
   "execution_count": 51,
   "metadata": {},
   "outputs": [
    {
     "name": "stdout",
     "output_type": "stream",
     "text": [
      "(92, 357, 3)\n"
     ]
    }
   ],
   "source": [
    "image_file = Image.open(\"D:\\FINAL YEAR PROJECTS\\models\\gray  model\\FINAL\\canny1.png\") # open colour image\n",
    "image_file = image_file.convert('L') # convert image to black and white\n",
    "image_file = image_file.convert('L')\n",
    "image_file.save('result.png')\n",
    "img = cv2.imread('result.png')\n",
    "x=0\n",
    "img1 =img[60:152, 4:361]\n",
    "cv2.imshow(\"show\",img1)\n",
    "print(img1.shape)\n",
    "cv2.imwrite(\"D:\\FINAL YEAR PROJECTS\\models\\gray  model\\FINAL\\monocropped.jpg\",img1)\n",
    "cv2.waitKey(0)\n",
    "cv2.destroyAllWindows()"
   ]
  },
  {
   "cell_type": "markdown",
   "metadata": {},
   "source": [
    "# IMAGE SEGMENTATION"
   ]
  },
  {
   "cell_type": "code",
   "execution_count": 52,
   "metadata": {},
   "outputs": [],
   "source": [
    "im = cv2.imread(\"D:\\FINAL YEAR PROJECTS\\models\\gray  model\\FINAL\\monocropped.jpg\")\n",
    "j = int((im.shape[1])/7)\n",
    "h = int(im.shape[0])\n",
    "z=0\n",
    "for i in range(0,7):\n",
    "    crop = im[0:92 , z:z+j]   \n",
    "    crop =cv2.resize(crop,(224,224))\n",
    "    cv2.imwrite('D:\\FINAL YEAR PROJECTS\\models\\gray  model\\FINAL\\ '+str(i)+\".jpg\",crop)\n",
    "    z+=j\n",
    "    cv2.imshow(\"crop\"+str(i),crop)\n",
    "    cv2.waitKey(0)\n",
    "\n",
    "cv2.destroyAllWindows() "
   ]
  },
  {
   "cell_type": "markdown",
   "metadata": {},
   "source": [
    "# PREDICTION MODEL "
   ]
  },
  {
   "cell_type": "code",
   "execution_count": 53,
   "metadata": {},
   "outputs": [
    {
     "name": "stdout",
     "output_type": "stream",
     "text": [
      "WARNING:tensorflow:No training configuration found in save file: the model was *not* compiled. Compile it manually.\n",
      "2\n",
      "9\n",
      "4\n",
      "5\n",
      "8\n",
      "4\n",
      "0\n",
      "2945840\n"
     ]
    }
   ],
   "source": [
    "np.set_printoptions(suppress=True)\n",
    "model = tensorflow.keras.models.load_model('D:\\FINAL YEAR PROJECTS\\models\\gray  model\\FINAL\\gray.h5')\n",
    "data = np.ndarray(shape=(1, 224, 224, 3), dtype=np.float32)\n",
    "im = cv2.imread(\"D:\\FINAL YEAR PROJECTS\\models\\gray  model\\FINAL\\monocropped.jpg\")\n",
    "j = int(im.shape[1]/7)\n",
    "z=0\n",
    "unit =0\n",
    "for i in range(0,7):\n",
    "    crop = im[0:92 , z:z+j]    \n",
    "    crop =cv2.resize(crop,(224,224))    \n",
    "    cv2.imwrite(str(i)+\".jpg\",crop)    \n",
    "    image = Image.open(str(i)+'.jpg')\n",
    "    #resize the image to a 224x224 with the same strategy:\n",
    "    #resizing the image to be at least 224x224 and then cropping from the center\n",
    "    size = (224, 224)\n",
    "    image = ImageOps.fit(image, size, Image.ANTIALIAS)\n",
    "    \n",
    "    #turn the image into a numpy array\n",
    "    image_array = np.asarray(image)\n",
    "    \n",
    "    # display the resized image\n",
    "    #image.show()\n",
    "    \n",
    "    # Normalize the image\n",
    "    normalized_image_array = (image_array.astype(np.float32) / 127.0) - 1\n",
    "    \n",
    "    # Load the image into the array\n",
    "    data[0] = normalized_image_array\n",
    "    \n",
    "    # run the inference\n",
    "    prediction = model.predict(data)\n",
    "    #print(prediction)\n",
    "    value = int(np.argmax(prediction,axis=1))\n",
    "    unit+=(value*pow(10,6-i))\n",
    "    print(value)\n",
    "    z+=j\n",
    "print(unit)"
   ]
  },
  {
   "cell_type": "markdown",
   "metadata": {},
   "source": [
    "# SLAB CONTROL"
   ]
  },
  {
   "cell_type": "code",
   "execution_count": 54,
   "metadata": {
    "scrolled": true
   },
   "outputs": [
    {
     "name": "stdout",
     "output_type": "stream",
     "text": [
      "Electricity Bill:Rs. 530\n",
      "consumed 33 % of energy at slab 3\n",
      "Estimated Bill : Rs. 2440.0\n"
     ]
    }
   ],
   "source": [
    "premonthvalue = 2945540\n",
    "noofdays = 30\n",
    "unit = unit - premonthvalue\n",
    "def unitcalc(unit1):    \n",
    "    if(unit1<=100):\n",
    "        bill = 0\n",
    "        return bill\n",
    "    elif(unit1<=200):\n",
    "        bill = (unit1 -100)*1.50 +20\n",
    "        #print(customerName+\" Electricity Bill : Rs. \"+str(bill) )\n",
    "        #print(customerName+\" had consumed \"+str(per)+\" % of slab 2\")\n",
    "        return bill\n",
    "    elif(unit1<=500):\n",
    "        unit1 -= 200\n",
    "        bill = 230+(unit1*3)\n",
    "        #print(customerName+\" Electricity Bill : Rs. \"+str(bill) )\n",
    "        #print(customerName+\" had consumed \"+str(per)+\" % of slab 3\")\n",
    "        return bill\n",
    "    else:\n",
    "        unit1 -=500\n",
    "        bill = 1780+(unit1*6.6)\n",
    "        #print(customerName+\" Electricity Bill : Rs. \"+str(bill))\n",
    "        return bill\n",
    "    \n",
    "def perctangecalc(unit1):\n",
    "    if(unit1<=100):\n",
    "        per =  unit1\n",
    "        return per,1\n",
    "    elif(unit1<=200):\n",
    "        per = int(unit1-100)\n",
    "        return per,2\n",
    "    elif(unit1<=500):\n",
    "        unit1 -= 200\n",
    "        per = int((unit1/300)*100)\n",
    "        return per,3\n",
    "    \n",
    "def getunit(cost):\n",
    "    if(cost<1130):\n",
    "        newunit = (cost - 230)/3\n",
    "        newunit +=200\n",
    "        return newunit\n",
    "    else:\n",
    "        newunit = (cost - 1780)/6.6\n",
    "        newunit +=500\n",
    "        return newunit\n",
    "\n",
    "consumed=unitcalc(unit)\n",
    "percent,slab = perctangecalc(unit)\n",
    "estimatedunit = (60/noofdays)*unit\n",
    "estimatedcost = unitcalc(estimatedunit)\n",
    "print(\"Electricity Bill:\"+str(\"Rs. \")+str(consumed))\n",
    "print(\"consumed \"+str(percent)+str(\" %\")+\" of energy at slab \"+str(slab) )\n",
    "print(\"Estimated Bill : \"+str(\"Rs. \") + str(estimatedcost) )"
   ]
  },
  {
   "cell_type": "code",
   "execution_count": 43,
   "metadata": {
    "scrolled": true
   },
   "outputs": [
    {
     "name": "stdout",
     "output_type": "stream",
     "text": [
      "390.0\n",
      "90.0\n",
      "530 33 2440.0 600.0 300.0\n",
      "120.56099999999999\n",
      "Additonal unit -1.0186999999999997\n",
      "4.0187\n",
      "2.7917 3.722266666666667\n",
      "light  :  4\n",
      "fan  :  8\n",
      "charger  :  3\n",
      "motor  :  0.5\n",
      "tv  :  3\n",
      "refrigerator  :  24\n",
      "wetgrinder  :  0.1428\n",
      "ironbox  :  0.1428\n",
      "mixer  :  0.0166\n"
     ]
    }
   ],
   "source": [
    "reducecost = 800   #BASE AMOUNT WITH 780 (765 CASE 2)\n",
    "reduceunit = getunit(reducecost)\n",
    "avalunit = reduceunit - unit\n",
    "print(reduceunit)\n",
    "print(avalunit)\n",
    "remainingunit = estimatedunit-unit\n",
    "print(consumed, percent, estimatedcost, estimatedunit, remainingunit )\n",
    "##### for load forecast######\n",
    "noofdays = 30\n",
    "remdays = 60 - noofdays\n",
    "dicthour = {\n",
    "    \"light\" : 4,\n",
    "    \"fan\" : 20,\n",
    "    \"charger\" : 3,\n",
    "    \"motor\" : 0.5,\n",
    "    \"tv\" : 6,\n",
    "    \"refrigerator\" : 24,\n",
    "    \"wetgrinder\" : 0.5,\n",
    "    \"ironbox\" : 0.5,\n",
    "    \"mixer\" : 0.0166   \n",
    "    }\n",
    "\n",
    "\n",
    "dictload = {\n",
    "    \"light\" : 0.040,\n",
    "    \"fan\" : 0.075,\n",
    "    \"charger\" : 0.007,\n",
    "    \"motor\" : 0.750,\n",
    "    \"tv\" : 0.100,\n",
    "    \"refrigerator\" : 0.0356,\n",
    "    \"wetgrinder\" : 0.300,\n",
    "    \"ironbox\" : 0.700,\n",
    "    \"mixer\" : 0.500   \n",
    "    }  #all the load in kW\n",
    "\n",
    "unitperday = 0\n",
    "for x in dicthour:\n",
    "    unitperday += dictload[x]* dicthour[x]\n",
    "print(unitperday*remdays)\n",
    "basicunit = unitperday*remdays\n",
    "additionalunit = (avalunit - basicunit)/remdays\n",
    "print(\"Additonal unit \"+ str(additionalunit))\n",
    "print(unitperday)\n",
    "invalidnumber = 0\n",
    "flag=0\n",
    "if(additionalunit>0):\n",
    "    flag = 1\n",
    "    amt = unitcalc(basicunit+unit)\n",
    "    amt = reducecost-amt\n",
    "    print(\"Amount saved :\"+str(amt))   \n",
    "if(additionalunit<0):\n",
    "    additionalunit = unitperday+additionalunit\n",
    "    if(additionalunit>1.67803): \n",
    "        runit = additionalunit - 1.67803\n",
    "        if(runit>0.9):\n",
    "                #dicthour[\"wetgrinder\"]= 0.1428\n",
    "                #dicthour[\"ironbox\"]= 0.1428\n",
    "                #dicthour[\"mixer\"]= 0.0833\n",
    "                dicthour[\"fan\"] = 8\n",
    "                dicthour[\"tv\"] = 3\n",
    "                temp = dicthour[\"fan\"]*dictload[\"fan\"] + dicthour[\"tv\"]*dictload[\"tv\"]\n",
    "                runit -=temp\n",
    "                if(runit>0.1428):\n",
    "                    dicthour[\"wetgrinder\"]= 0.1428\n",
    "                    dicthour[\"ironbox\"]= 0.1428\n",
    "                    runit -=0.1428\n",
    "                    additionaltv = runit/dictload[\"tv\"]\n",
    "                    additionalfan = runit/dictload[\"fan\"]\n",
    "                    print(additionaltv,additionalfan)\n",
    "                else:\n",
    "                    dicthour[\"wetgrinder\"] = 0\n",
    "                    dicthour[\"ironbox\"] = 0\n",
    "                    additionaltv = runit/dictload[\"tv\"]\n",
    "                    additionalfan = runit/dictload[\"fan\"]\n",
    "                    print(additionaltv,additionalfan)\n",
    "        else:\n",
    "            invalidnumber = 1\n",
    "            print(\"Invalid amount\")\n",
    "    else:\n",
    "        invalidnumber = 1\n",
    "        print(\"Invalid amount\")\n",
    "if(not invalidnumber):\n",
    "    for x,y in dicthour.items():\n",
    "        print(str(x)+ \"  :  \"+str(y) )\n",
    "else:\n",
    "    print(\"Invalid amount\")"
   ]
  },
  {
   "cell_type": "code",
   "execution_count": null,
   "metadata": {},
   "outputs": [],
   "source": []
  }
 ],
 "metadata": {
  "kernelspec": {
   "display_name": "Python 3",
   "language": "python",
   "name": "python3"
  },
  "language_info": {
   "codemirror_mode": {
    "name": "ipython",
    "version": 3
   },
   "file_extension": ".py",
   "mimetype": "text/x-python",
   "name": "python",
   "nbconvert_exporter": "python",
   "pygments_lexer": "ipython3",
   "version": "3.7.3"
  }
 },
 "nbformat": 4,
 "nbformat_minor": 4
}
